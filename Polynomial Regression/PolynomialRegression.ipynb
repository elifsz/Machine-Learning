{
 "cells": [
  {
   "cell_type": "markdown",
   "metadata": {},
   "source": [
    "### Step 1: creation of data"
   ]
  },
  {
   "cell_type": "markdown",
   "metadata": {},
   "source": [
    "create dataset 3th order polynomial"
   ]
  },
  {
   "cell_type": "code",
   "execution_count": 1,
   "metadata": {},
   "outputs": [],
   "source": [
    "import numpy as np\n",
    "import pandas as pd\n",
    "import matplotlib.pyplot as plt\n",
    "\n",
    "\n",
    "data_points = 150\n",
    "n = int(data_points/2)\n",
    "\n",
    "#generate n1\n",
    "nRange = 5\n",
    "n1 = np.random.uniform(-nRange, nRange,n)\n",
    "b0 = 1\n",
    "b1 = 3\n",
    "b2 = 4\n",
    "b3 = 2\n",
    "noiseLevel = 5\n",
    "noise = np.random.normal(-noiseLevel,noiseLevel,n)\n",
    "n1_y = b0 + (b1 * n1) + (b2 * (n1**2)) + (b3 * (n1**3)) + noise \n",
    "\n",
    "#generate n2\n",
    "n2 = np.random.uniform(-nRange, nRange,n)\n",
    "b0 = 1.2\n",
    "b1 = 3.6\n",
    "b2 = 3.2\n",
    "b3 = 2.9\n",
    "noiseLevel = 5\n",
    "noise = np.random.normal(-noiseLevel,noiseLevel,n)\n",
    "n2_y = b0 + (b1 * n2) + (b2 * (n2**2))+ (b3 * (n2**3))  + noise "
   ]
  },
  {
   "cell_type": "code",
   "execution_count": 2,
   "metadata": {},
   "outputs": [
    {
     "name": "stdout",
     "output_type": "stream",
     "text": [
      "(150,)\n",
      "(150,)\n"
     ]
    }
   ],
   "source": [
    "#concanate data\n",
    "X = np.concatenate((n1,n2),axis=0)\n",
    "y = np.concatenate((n1_y,n2_y),axis=0)\n",
    "\n",
    "#X = X.reshape(len(X), 1)\n",
    "#y = y.reshape(len(y), 1)\n",
    "print(X.shape)\n",
    "print(y.shape)"
   ]
  },
  {
   "cell_type": "code",
   "execution_count": 3,
   "metadata": {},
   "outputs": [
    {
     "data": {
      "image/png": "[encoded data removed]",
      "text/plain": [
       "<Figure size 720x360 with 1 Axes>"
      ]
     },
     "metadata": {
      "needs_background": "light"
     },
     "output_type": "display_data"
    }
   ],
   "source": [
    "plt.figure(figsize =(10,5))\n",
    "plt.scatter(X,y,s=3)\n",
    "plt.title('Polynomial data : input is x and output is y')\n",
    "plt.xlabel('x',fontsize =16)\n",
    "plt.ylabel('y',fontsize=16)\n",
    "plt.show()"
   ]
  },
  {
   "cell_type": "markdown",
   "metadata": {},
   "source": [
    "train test data split"
   ]
  },
  {
   "cell_type": "code",
   "execution_count": 4,
   "metadata": {},
   "outputs": [
    {
     "name": "stdout",
     "output_type": "stream",
     "text": [
      "(100,)\n",
      "(50,)\n",
      "(100,)\n",
      "(50,)\n"
     ]
    }
   ],
   "source": [
    "from sklearn.model_selection import train_test_split\n",
    "X_train, X_test, y_train, y_test = train_test_split(X,y,test_size = 0.33,random_state=20)\n",
    "print(X_train.shape)\n",
    "print(X_test.shape)\n",
    "print(y_train.shape)\n",
    "print(y_test.shape)"
   ]
  },
  {
   "cell_type": "markdown",
   "metadata": {},
   "source": [
    "### Step 2: Model selection - finding best M\n",
    "#### using scikit-learn"
   ]
  },
  {
   "cell_type": "code",
   "execution_count": 5,
   "metadata": {},
   "outputs": [],
   "source": [
    "from sklearn.preprocessing import PolynomialFeatures\n",
    "from sklearn.linear_model import LinearRegression\n",
    "from sklearn import metrics\n",
    "\n",
    "test_error = []\n",
    "train_error = []\n",
    "\n",
    "m_range = range(1,16,1)\n",
    "\n",
    "for m in m_range:\n",
    "    poly = PolynomialFeatures(degree = m)\n",
    "    \n",
    "    #map train data\n",
    "    x_input_train = X_train[:,np.newaxis]\n",
    "    x_mapped_train = poly.fit_transform(x_input_train)\n",
    "    \n",
    "    #fit data\n",
    "    regressor = LinearRegression()\n",
    "    regressor.fit(x_mapped_train,y_train)\n",
    "    \n",
    "    #predict training value\n",
    "    y_hat_train = regressor.predict(x_mapped_train)\n",
    "    mse_train = metrics.mean_squared_error(y_train,y_hat_train)\n",
    "    #mse_train = np.square(np.subtract(y_train,y_hat_train)).mean() \n",
    "    train_error.append(mse_train)\n",
    "    \n",
    "    #mapping testing value and predict testing value\n",
    "    x_input_test = X_test[:,np.newaxis]\n",
    "    x_mapped_test = poly.fit_transform(x_input_test)\n",
    "    y_hat_test = regressor.predict(x_mapped_test)\n",
    "    mse_test  = metrics.mean_squared_error(y_test,y_hat_test)\n",
    "    test_error.append(mse_test)"
   ]
  },
  {
   "cell_type": "markdown",
   "metadata": {},
   "source": [
    "train and test error as a plot"
   ]
  },
  {
   "cell_type": "code",
   "execution_count": 6,
   "metadata": {},
   "outputs": [
    {
     "name": "stdout",
     "output_type": "stream",
     "text": [
      "Polynomial Train Test Error with respect to m\n"
     ]
    },
    {
     "data": {
      "image/png": "[encoded data removed]",
      "text/plain": [
       "<Figure size 432x288 with 1 Axes>"
      ]
     },
     "metadata": {
      "needs_background": "light"
     },
     "output_type": "display_data"
    }
   ],
   "source": [
    "print(\"Polynomial Train Test Error with respect to m\")\n",
    "\n",
    "plt.plot(m_range,np.sqrt(train_error),label = \"training\")\n",
    "plt.plot(m_range,np.sqrt(test_error),label = \"testing\")\n",
    "plt.xlabel(\"m\")\n",
    "plt.ylabel(\"RMSE\")\n",
    "plt.legend()\n",
    "plt.show()"
   ]
  },
  {
   "cell_type": "markdown",
   "metadata": {},
   "source": [
    "chose best m with lowest test error"
   ]
  },
  {
   "cell_type": "code",
   "execution_count": 7,
   "metadata": {},
   "outputs": [
    {
     "name": "stdout",
     "output_type": "stream",
     "text": [
      "M: 5\n",
      "Min test error 370.8365925287225\n",
      "Train error 484.8851629263993\n"
     ]
    }
   ],
   "source": [
    "best_test = np.min(test_error)\n",
    "best_test_m = test_error.index(best_test)+1\n",
    "print(\"M:\",best_test_m)\n",
    "print(\"Min test error\",best_test)\n",
    "print(\"Train error\",train_error[best_test_m-1])"
   ]
  },
  {
   "cell_type": "code",
   "execution_count": 8,
   "metadata": {},
   "outputs": [
    {
     "data": {
      "text/plain": [
       "[4336.798623975106,\n",
       " 3462.8379709151877,\n",
       " 515.5139614893519,\n",
       " 491.7651587133469,\n",
       " 484.8851629263993,\n",
       " 472.7664017040626,\n",
       " 465.8755071485539,\n",
       " 464.0531644701218,\n",
       " 458.1019424902406,\n",
       " 456.71964308698097,\n",
       " 456.2979669790028,\n",
       " 456.19894435316417,\n",
       " 449.7515516361039,\n",
       " 449.6662341737614,\n",
       " 447.867916968692]"
      ]
     },
     "execution_count": 8,
     "metadata": {},
     "output_type": "execute_result"
    }
   ],
   "source": [
    "train_error"
   ]
  },
  {
   "cell_type": "code",
   "execution_count": 9,
   "metadata": {},
   "outputs": [
    {
     "data": {
      "text/plain": [
       "[4796.370781233996,\n",
       " 3009.750510639698,\n",
       " 450.39153420836044,\n",
       " 424.1473627413868,\n",
       " 370.8365925287225,\n",
       " 390.102614018042,\n",
       " 372.00456303548475,\n",
       " 388.9349331567599,\n",
       " 406.9154119723547,\n",
       " 406.63730006894235,\n",
       " 397.66811771506383,\n",
       " 394.47185647755475,\n",
       " 404.12592417024956,\n",
       " 403.7866851685347,\n",
       " 403.4763395342369]"
      ]
     },
     "execution_count": 9,
     "metadata": {},
     "output_type": "execute_result"
    }
   ],
   "source": [
    "test_error"
   ]
  },
  {
   "cell_type": "code",
   "execution_count": 10,
   "metadata": {},
   "outputs": [],
   "source": [
    "poly = PolynomialFeatures(degree = best_test_m)\n",
    "x_input_train = X_train[:,np.newaxis]\n",
    "x_mapped_train = poly.fit_transform(x_input_train)\n",
    "    \n",
    "regressor = LinearRegression()\n",
    "regressor.fit(x_mapped_train,y_train)\n",
    "    \n",
    "#mapping testing value and predict testing value\n",
    "x_input_test = X_test[:,np.newaxis]\n",
    "x_mapped_test = poly.fit_transform(x_input_test)\n",
    "y_hat_test = regressor.predict(x_mapped_test)"
   ]
  },
  {
   "cell_type": "code",
   "execution_count": 11,
   "metadata": {},
   "outputs": [
    {
     "data": {
      "image/png": "[encoded data removed]",
      "text/plain": [
       "<Figure size 720x360 with 1 Axes>"
      ]
     },
     "metadata": {
      "needs_background": "light"
     },
     "output_type": "display_data"
    }
   ],
   "source": [
    "plt.figure(figsize =(10,5))\n",
    "plt.scatter(X_test,y_test,s=20,color='cyan')\n",
    "plt.scatter(X_test,y_hat_test,s=25,color='purple')\n",
    "plt.xlabel('x',fontsize =16)\n",
    "plt.ylabel('y',fontsize=16)\n",
    "\n",
    "plt.show()"
   ]
  },
  {
   "cell_type": "markdown",
   "metadata": {},
   "source": [
    "### Step 3: Pipeline"
   ]
  },
  {
   "cell_type": "code",
   "execution_count": 12,
   "metadata": {},
   "outputs": [],
   "source": [
    "from sklearn.pipeline import Pipeline\n",
    "\n",
    "poly_regression = Pipeline([\n",
    "    (\"poly\" , PolynomialFeatures(degree = best_test_m)),\n",
    "    (\"lin_reg\", LinearRegression())\n",
    "])\n",
    "\n",
    "x_input = X_train[:,np.newaxis]\n",
    "x_test = X_test[:,np.newaxis]\n",
    "poly_regression.fit(x_input,y_train)\n",
    "y_hat = poly_regression.predict(x_test)"
   ]
  },
  {
   "cell_type": "code",
   "execution_count": 13,
   "metadata": {},
   "outputs": [
    {
     "data": {
      "image/png": "[encoded data removed]",
      "text/plain": [
       "<Figure size 720x360 with 1 Axes>"
      ]
     },
     "metadata": {
      "needs_background": "light"
     },
     "output_type": "display_data"
    }
   ],
   "source": [
    "plt.figure(figsize =(10,5))\n",
    "plt.scatter(X_test,y_test,s=20,color='cyan')\n",
    "plt.scatter(X_test,y_hat,s=25,color='purple')\n",
    "plt.xlabel('x',fontsize =16)\n",
    "plt.ylabel('y',fontsize=16)\n",
    "\n",
    "plt.show()"
   ]
  },
  {
   "cell_type": "markdown",
   "metadata": {},
   "source": [
    "### Step 4: Create learning curves"
   ]
  },
  {
   "cell_type": "code",
   "execution_count": 14,
   "metadata": {},
   "outputs": [
    {
     "data": {
      "image/png": "[encoded data removed]",
      "text/plain": [
       "<Figure size 432x288 with 1 Axes>"
      ]
     },
     "metadata": {
      "needs_background": "light"
     },
     "output_type": "display_data"
    }
   ],
   "source": [
    "X_train, X_test, y_train, y_test = train_test_split(X,y,test_size = 0.2,random_state=20)\n",
    "test_errors = []\n",
    "train_errors = []\n",
    "for m in range(1,len(X_train)):\n",
    "    poly_regression = Pipeline([\n",
    "    (\"poly\" , PolynomialFeatures(degree = 3)),\n",
    "    (\"lin_reg\", LinearRegression())\n",
    "    ])\n",
    "\n",
    "    x_input = X_train[:,np.newaxis]\n",
    "    x_test = X_test[:,np.newaxis]\n",
    "\n",
    "    \n",
    "    poly_regression.fit(x_input[:m], y_train[:m])\n",
    "    \n",
    "    y_hat_train = poly_regression.predict(x_input[:m])\n",
    "    mse_train  = metrics.mean_squared_error(y_train[:m],y_hat_train)\n",
    "    train_errors.append(mse_train)\n",
    "    \n",
    "    y_hat_test = poly_regression.predict(x_test)\n",
    "    mse_test  = metrics.mean_squared_error(y_test,y_hat_test)\n",
    "    test_errors.append(mse_test)\n",
    "    \n",
    "plt.plot(np.sqrt(train_errors),\"r-+\",label=\"Training\")\n",
    "plt.plot(np.sqrt(test_errors),\"b-\",label=\"Testing\")\n",
    "plt.title(\"Learning Curve\")\n",
    "plt.xlabel(\"Training set size\")\n",
    "plt.ylabel(\"RMSE\")\n",
    "plt.legend()\n",
    "plt.show() "
   ]
  },
  {
   "cell_type": "markdown",
   "metadata": {},
   "source": [
    "increasing test size -> descreasing train size"
   ]
  },
  {
   "cell_type": "code",
   "execution_count": 15,
   "metadata": {},
   "outputs": [
    {
     "name": "stdout",
     "output_type": "stream",
     "text": [
      "(135, 1)\n",
      "(120, 1)\n",
      "(105, 1)\n",
      "(90, 1)\n",
      "(75, 1)\n",
      "(60, 1)\n",
      "(45, 1)\n",
      "(30, 1)\n",
      "(15, 1)\n"
     ]
    },
    {
     "data": {
      "image/png": "[encoded data removed]",
      "text/plain": [
       "<Figure size 432x288 with 1 Axes>"
      ]
     },
     "metadata": {
      "needs_background": "light"
     },
     "output_type": "display_data"
    }
   ],
   "source": [
    "test_errors = []\n",
    "train_errors = []\n",
    "m_range = range(0,9,1)\n",
    "size = np.array([0.10,0.20,0.30,0.40,0.50,0.60,0.70,0.80,0.90])\n",
    "\n",
    "for i in m_range:\n",
    "    X_train, X_test, y_train, y_test = train_test_split(X,y,test_size = size[i],random_state=20)\n",
    "    poly_regression = Pipeline([\n",
    "    (\"poly\" , PolynomialFeatures(degree = 3)),\n",
    "    (\"lin_reg\", LinearRegression())\n",
    "    ])\n",
    "\n",
    "    x_input = X_train[:,np.newaxis]\n",
    "    x_test = X_test[:,np.newaxis]\n",
    "    poly_regression.fit(x_input,y_train)\n",
    "    print(x_input.shape)\n",
    "    y_hat_test = poly_regression.predict(x_test)\n",
    "    mse_test  = metrics.mean_squared_error(y_test,y_hat_test)\n",
    "    test_errors.append(mse_test)\n",
    "    \n",
    "    y_hat_train = poly_regression.predict(x_input)\n",
    "    mse_train  = metrics.mean_squared_error(y_train,y_hat_train)\n",
    "    train_errors.append(mse_train)\n",
    "plt.plot(size*data_points,np.sqrt(train_errors),\"r-+\",label=\"Training\")\n",
    "plt.plot(size*data_points,np.sqrt(test_errors),\"b-\",label=\"Testing\")\n",
    "plt.title(\"Learning Curve \")\n",
    "plt.xlabel(\"Test Size,Decreasing Train Size\")\n",
    "plt.ylabel(\"RMSE\")\n",
    "plt.legend()\n",
    "plt.show()\n"
   ]
  },
  {
   "cell_type": "code",
   "execution_count": null,
   "metadata": {},
   "outputs": [],
   "source": []
  }
 ],
 "metadata": {
  "kernelspec": {
   "display_name": "Python 3",
   "language": "python",
   "name": "python3"
  },
  "language_info": {
   "codemirror_mode": {
    "name": "ipython",
    "version": 3
   },
   "file_extension": ".py",
   "mimetype": "text/x-python",
   "name": "python",
   "nbconvert_exporter": "python",
   "pygments_lexer": "ipython3",
   "version": "3.7.7"
  }
 },
 "nbformat": 4,
 "nbformat_minor": 4
}
