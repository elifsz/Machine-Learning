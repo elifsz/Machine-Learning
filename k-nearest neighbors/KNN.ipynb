{
 "cells": [
  {
   "cell_type": "code",
   "execution_count": 1,
   "metadata": {},
   "outputs": [],
   "source": [
    "import numpy as np\n",
    "import pandas as pd\n",
    "train = pd.read_csv(\"train.csv\")\n",
    "test = pd.read_csv(\"test.csv\")"
   ]
  },
  {
   "cell_type": "code",
   "execution_count": 2,
   "metadata": {},
   "outputs": [
    {
     "data": {
      "text/html": [
       "<div>\n",
       "<style scoped>\n",
       "    .dataframe tbody tr th:only-of-type {\n",
       "        vertical-align: middle;\n",
       "    }\n",
       "\n",
       "    .dataframe tbody tr th {\n",
       "        vertical-align: top;\n",
       "    }\n",
       "\n",
       "    .dataframe thead th {\n",
       "        text-align: right;\n",
       "    }\n",
       "</style>\n",
       "<table border=\"1\" class=\"dataframe\">\n",
       "  <thead>\n",
       "    <tr style=\"text-align: right;\">\n",
       "      <th></th>\n",
       "      <th>X1</th>\n",
       "      <th>X2</th>\n",
       "      <th>target</th>\n",
       "    </tr>\n",
       "  </thead>\n",
       "  <tbody>\n",
       "    <tr>\n",
       "      <th>0</th>\n",
       "      <td>31</td>\n",
       "      <td>22</td>\n",
       "      <td>2</td>\n",
       "    </tr>\n",
       "    <tr>\n",
       "      <th>1</th>\n",
       "      <td>194</td>\n",
       "      <td>20</td>\n",
       "      <td>2</td>\n",
       "    </tr>\n",
       "    <tr>\n",
       "      <th>2</th>\n",
       "      <td>75</td>\n",
       "      <td>11</td>\n",
       "      <td>2</td>\n",
       "    </tr>\n",
       "    <tr>\n",
       "      <th>3</th>\n",
       "      <td>103</td>\n",
       "      <td>15</td>\n",
       "      <td>1</td>\n",
       "    </tr>\n",
       "    <tr>\n",
       "      <th>4</th>\n",
       "      <td>255</td>\n",
       "      <td>20</td>\n",
       "      <td>2</td>\n",
       "    </tr>\n",
       "  </tbody>\n",
       "</table>\n",
       "</div>"
      ],
      "text/plain": [
       "    X1  X2  target\n",
       "0   31  22       2\n",
       "1  194  20       2\n",
       "2   75  11       2\n",
       "3  103  15       1\n",
       "4  255  20       2"
      ]
     },
     "execution_count": 2,
     "metadata": {},
     "output_type": "execute_result"
    }
   ],
   "source": [
    "train.head()"
   ]
  },
  {
   "cell_type": "code",
   "execution_count": 3,
   "metadata": {},
   "outputs": [
    {
     "data": {
      "text/html": [
       "<div>\n",
       "<style scoped>\n",
       "    .dataframe tbody tr th:only-of-type {\n",
       "        vertical-align: middle;\n",
       "    }\n",
       "\n",
       "    .dataframe tbody tr th {\n",
       "        vertical-align: top;\n",
       "    }\n",
       "\n",
       "    .dataframe thead th {\n",
       "        text-align: right;\n",
       "    }\n",
       "</style>\n",
       "<table border=\"1\" class=\"dataframe\">\n",
       "  <thead>\n",
       "    <tr style=\"text-align: right;\">\n",
       "      <th></th>\n",
       "      <th>X1</th>\n",
       "      <th>X2</th>\n",
       "      <th>target</th>\n",
       "    </tr>\n",
       "  </thead>\n",
       "  <tbody>\n",
       "    <tr>\n",
       "      <th>0</th>\n",
       "      <td>255</td>\n",
       "      <td>11</td>\n",
       "      <td>2</td>\n",
       "    </tr>\n",
       "    <tr>\n",
       "      <th>1</th>\n",
       "      <td>224</td>\n",
       "      <td>7</td>\n",
       "      <td>2</td>\n",
       "    </tr>\n",
       "    <tr>\n",
       "      <th>2</th>\n",
       "      <td>114</td>\n",
       "      <td>14</td>\n",
       "      <td>1</td>\n",
       "    </tr>\n",
       "    <tr>\n",
       "      <th>3</th>\n",
       "      <td>255</td>\n",
       "      <td>22</td>\n",
       "      <td>2</td>\n",
       "    </tr>\n",
       "    <tr>\n",
       "      <th>4</th>\n",
       "      <td>67</td>\n",
       "      <td>6</td>\n",
       "      <td>1</td>\n",
       "    </tr>\n",
       "  </tbody>\n",
       "</table>\n",
       "</div>"
      ],
      "text/plain": [
       "    X1  X2  target\n",
       "0  255  11       2\n",
       "1  224   7       2\n",
       "2  114  14       1\n",
       "3  255  22       2\n",
       "4   67   6       1"
      ]
     },
     "execution_count": 3,
     "metadata": {},
     "output_type": "execute_result"
    }
   ],
   "source": [
    "test.head()"
   ]
  },
  {
   "cell_type": "code",
   "execution_count": 4,
   "metadata": {},
   "outputs": [
    {
     "name": "stdout",
     "output_type": "stream",
     "text": [
      "<class 'pandas.core.frame.DataFrame'>\n",
      "RangeIndex: 2500 entries, 0 to 2499\n",
      "Data columns (total 3 columns):\n",
      " #   Column  Non-Null Count  Dtype\n",
      "---  ------  --------------  -----\n",
      " 0   X1      2500 non-null   int64\n",
      " 1   X2      2500 non-null   int64\n",
      " 2   target  2500 non-null   int64\n",
      "dtypes: int64(3)\n",
      "memory usage: 58.7 KB\n"
     ]
    }
   ],
   "source": [
    "train.info()"
   ]
  },
  {
   "cell_type": "code",
   "execution_count": 5,
   "metadata": {},
   "outputs": [
    {
     "name": "stdout",
     "output_type": "stream",
     "text": [
      "<class 'pandas.core.frame.DataFrame'>\n",
      "RangeIndex: 5000 entries, 0 to 4999\n",
      "Data columns (total 3 columns):\n",
      " #   Column  Non-Null Count  Dtype\n",
      "---  ------  --------------  -----\n",
      " 0   X1      5000 non-null   int64\n",
      " 1   X2      5000 non-null   int64\n",
      " 2   target  5000 non-null   int64\n",
      "dtypes: int64(3)\n",
      "memory usage: 117.3 KB\n"
     ]
    }
   ],
   "source": [
    "test.info()"
   ]
  },
  {
   "cell_type": "code",
   "execution_count": 6,
   "metadata": {},
   "outputs": [],
   "source": [
    "#train data preprocessing\n",
    "x_train = train.iloc[:,0:2].values\n",
    "y_train = train.iloc[:,2:].values"
   ]
  },
  {
   "cell_type": "code",
   "execution_count": 7,
   "metadata": {},
   "outputs": [],
   "source": [
    "#test data preprocessing\n",
    "x_test = test.iloc[:,0:2].values\n",
    "y_test = test.iloc[:,2:].values"
   ]
  },
  {
   "cell_type": "markdown",
   "metadata": {},
   "source": [
    "# SEPERATE DATA"
   ]
  },
  {
   "cell_type": "code",
   "execution_count": 8,
   "metadata": {},
   "outputs": [],
   "source": [
    "# Combining X variables \n",
    "X_train = list(zip(train[\"X1\"], train[\"X2\"]))\n",
    "X_test =  list(zip(test[\"X1\"], test[\"X2\"]))\n",
    "\n",
    "Y_train = train.target\n",
    "Y_test = test.target"
   ]
  },
  {
   "cell_type": "code",
   "execution_count": 9,
   "metadata": {},
   "outputs": [
    {
     "name": "stdout",
     "output_type": "stream",
     "text": [
      "[0.8692, 0.8472, 0.8256, 0.8388, 0.8428, 0.8412, 0.8504, 0.8472, 0.8424, 0.8404, 0.8364, 0.8352, 0.8328, 0.8308, 0.832, 0.8336, 0.8316]\n",
      "Best Score  0.8692\n",
      "Best K-Value  1\n"
     ]
    }
   ],
   "source": [
    "#train data predict\n",
    "from sklearn.neighbors import KNeighborsClassifier\n",
    "from sklearn import metrics\n",
    "\n",
    "accuracy_train_data = []\n",
    "\n",
    "i_range = range(1,35,2)\n",
    "\n",
    "for i in i_range:\n",
    "    knn = KNeighborsClassifier(n_neighbors=i)\n",
    "    knn.fit(x_train,np.ravel(y_train))\n",
    "    y_pred = knn.predict(x_train)\n",
    "    accuracy_train_data.append(metrics.accuracy_score(y_train,y_pred))\n",
    "\n",
    "print(accuracy_train_data)\n",
    "    \n",
    "best_train =np.max(accuracy_train_data)\n",
    "best_k_value_train = accuracy_train_data.index(best_train)*2+1\n",
    "print(\"Best Score \",best_train)\n",
    "print(\"Best K-Value \",best_k_value_train)"
   ]
  },
  {
   "cell_type": "code",
   "execution_count": 10,
   "metadata": {},
   "outputs": [
    {
     "name": "stdout",
     "output_type": "stream",
     "text": [
      "[0.7992, 0.8076, 0.7944, 0.8094, 0.827, 0.8288, 0.8362, 0.8316, 0.8294, 0.8278, 0.8264, 0.8266, 0.825, 0.8236, 0.8234, 0.8236, 0.8198]\n",
      "Best Score  0.8362\n",
      "Best K-Value  13\n"
     ]
    }
   ],
   "source": [
    "#test data predict\n",
    "from sklearn.neighbors import KNeighborsClassifier\n",
    "from sklearn import metrics\n",
    "\n",
    "accuracy_test_data = []\n",
    "\n",
    "for i in i_range:\n",
    "    knn = KNeighborsClassifier(n_neighbors=i)\n",
    "    knn.fit(x_train,np.ravel(y_train))\n",
    "    y_pred = knn.predict(x_test)\n",
    "    accuracy_test_data.append(metrics.accuracy_score(y_test,y_pred))\n",
    "\n",
    "print(accuracy_test_data)\n",
    "    \n",
    "best_test =np.max(accuracy_test_data)\n",
    "best_k_value_test = accuracy_test_data.index(best_test)*2+1\n",
    "print(\"Best Score \",best_test)\n",
    "print(\"Best K-Value \",best_k_value_test)"
   ]
  },
  {
   "cell_type": "code",
   "execution_count": 11,
   "metadata": {},
   "outputs": [
    {
     "data": {
      "image/png": "[encoded data removed]",
      "text/plain": [
       "<Figure size 432x288 with 1 Axes>"
      ]
     },
     "metadata": {
      "needs_background": "light"
     },
     "output_type": "display_data"
    }
   ],
   "source": [
    "%matplotlib inline\n",
    "import matplotlib.pyplot as plt\n",
    "\n",
    "\n",
    "plt.xlabel(\"number of neighbors\")\n",
    "plt.ylabel(\"accuracy\")\n",
    "plt.title(\"k-NN varying number of neighbors\")\n",
    "plt.plot(i_range,accuracy_train_data,label=\"training accuracy\")\n",
    "plt.plot(i_range,accuracy_test_data,label=\"testing accuracy\")\n",
    "plt.legend()\n",
    "plt.show()"
   ]
  },
  {
   "cell_type": "code",
   "execution_count": 12,
   "metadata": {},
   "outputs": [
    {
     "name": "stdout",
     "output_type": "stream",
     "text": [
      "kNN performance on training data\n",
      "              precision    recall  f1-score   support\n",
      "\n",
      "           1       0.71      0.74      0.72       579\n",
      "           2       0.92      0.91      0.91      1921\n",
      "\n",
      "    accuracy                           0.87      2500\n",
      "   macro avg       0.81      0.82      0.82      2500\n",
      "weighted avg       0.87      0.87      0.87      2500\n",
      "\n",
      "0.8692\n",
      "kNN performance on testing data\n",
      "              precision    recall  f1-score   support\n",
      "\n",
      "           1       0.57      0.58      0.57      1167\n",
      "           2       0.87      0.87      0.87      3833\n",
      "\n",
      "    accuracy                           0.80      5000\n",
      "   macro avg       0.72      0.72      0.72      5000\n",
      "weighted avg       0.80      0.80      0.80      5000\n",
      "\n",
      "0.7992\n"
     ]
    }
   ],
   "source": [
    "#train on training data using best k\n",
    "from sklearn.neighbors import KNeighborsClassifier\n",
    "from sklearn import metrics\n",
    "\n",
    "knn = KNeighborsClassifier(n_neighbors=best_k_value_train)\n",
    "knn.fit(x_train,np.ravel(y_train))\n",
    "test_pred = knn.predict(x_test)\n",
    "train_pred = knn.predict(x_train)\n",
    "print(\"kNN performance on training data\")\n",
    "print(metrics.classification_report(y_train,train_pred))\n",
    "print(metrics.accuracy_score(y_train,train_pred))\n",
    "print(\"kNN performance on testing data\")\n",
    "print(metrics.classification_report(y_test,test_pred))\n",
    "print(metrics.accuracy_score(y_test,test_pred))"
   ]
  }
 ],
 "metadata": {
  "kernelspec": {
   "display_name": "Python 3",
   "language": "python",
   "name": "python3"
  },
  "language_info": {
   "codemirror_mode": {
    "name": "ipython",
    "version": 3
   },
   "file_extension": ".py",
   "mimetype": "text/x-python",
   "name": "python",
   "nbconvert_exporter": "python",
   "pygments_lexer": "ipython3",
   "version": "3.7.7"
  }
 },
 "nbformat": 4,
 "nbformat_minor": 4
}
